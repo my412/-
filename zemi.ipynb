{
 "cells": [
  {
   "cell_type": "code",
   "execution_count": 6,
   "id": "initial_id",
   "metadata": {
    "jupyter": {
     "is_executing": true
    }
   },
   "outputs": [
    {
     "name": "stdout",
     "output_type": "stream",
     "text": [
      "         day               name  price  客数    売上数    売上高   店頭在庫数  納入予定数  \\\n",
      "0 2024-09-29             バターチキン    350 NaN  645.0  207.0  1306.0  160.0   \n",
      "1 2024-09-29               グリーン    350 NaN  277.0   89.0   614.0    0.0   \n",
      "2 2024-09-29                牛バラ    390 NaN  319.0  103.0   638.0    0.0   \n",
      "3 2024-09-29               焙煎牛肉    490 NaN    NaN    NaN     NaN    NaN   \n",
      "4 2024-09-29  ハンバーグのデミグラスソースカレー    490 NaN   81.0   37.0   220.0  128.0   \n",
      "\n",
      "   当店在庫手持週  SNS 売場施策 TV放映 プロモーション  \n",
      "0      3.8  NaN  NaN  NaN     マルコ  \n",
      "1      2.2  NaN  NaN  NaN     マルコ  \n",
      "2      2.0  NaN  NaN  NaN     マルコ  \n",
      "3      NaN  NaN  NaN  NaN     マルコ  \n",
      "4      2.7  NaN  NaN  NaN     マルコ  \n"
     ]
    }
   ],
   "source": [
    "import pandas as pd\n",
    "\n",
    "# デスクトップにあるExcelファイルのパスを指定します\n",
    "# ¥マークは2つ重ねるか、文字列の前に r を付けてください\n",
    "file_path = r'C:\\Users\\my412\\Desktop\\ゼミ広告\\小売データ.xlsx'\n",
    "\n",
    "# Excelファイルを読み込み、データフレームに格納します\n",
    "train = pd.read_excel(file_path)\n",
    "\n",
    "# 読み込んだデータの最初の5行を表示して確認します\n",
    "print(train.head())"
   ]
  },
  {
   "cell_type": "code",
   "execution_count": 9,
   "id": "5e6d1850f3adb5ff",
   "metadata": {},
   "outputs": [
    {
     "name": "stdout",
     "output_type": "stream",
     "text": [
      "削除後のデータ:\n",
      "         day               name  price  客数    売上数    売上高   店頭在庫数  納入予定数  \\\n",
      "0 2024-09-29             バターチキン    350 NaN  645.0  207.0  1306.0  160.0   \n",
      "1 2024-09-29               グリーン    350 NaN  277.0   89.0   614.0    0.0   \n",
      "2 2024-09-29                牛バラ    390 NaN  319.0  103.0   638.0    0.0   \n",
      "4 2024-09-29  ハンバーグのデミグラスソースカレー    490 NaN   81.0   37.0   220.0  128.0   \n",
      "5 2024-09-29              サグチキン    490 NaN   70.0   31.0    62.0    0.0   \n",
      "\n",
      "   当店在庫手持週  SNS 売場施策 TV放映 プロモーション  \n",
      "0      3.8  NaN  NaN  NaN     マルコ  \n",
      "1      2.2  NaN  NaN  NaN     マルコ  \n",
      "2      2.0  NaN  NaN  NaN     マルコ  \n",
      "4      2.7  NaN  NaN  NaN     マルコ  \n",
      "5      0.9  NaN  NaN  NaN     マルコ  \n"
     ]
    }
   ],
   "source": [
    "# Remove rows where '商品名' is '焙煎牛肉' from the 'train' DataFrame\n",
    "train = train[train['name'] != '焙煎牛肉']\n",
    "\n",
    "# Check the result from the 'train' DataFrame\n",
    "print(\"削除後のデータ:\")\n",
    "print(train.head())"
   ]
  },
  {
   "cell_type": "code",
   "execution_count": 10,
   "id": "de46a2ac",
   "metadata": {},
   "outputs": [
    {
     "name": "stdout",
     "output_type": "stream",
     "text": [
      "         day               name  price  客数    売上数    売上高   店頭在庫数  納入予定数  \\\n",
      "0 2024-09-29             バターチキン    350 NaN  645.0  207.0  1306.0  160.0   \n",
      "1 2024-09-29               グリーン    350 NaN  277.0   89.0   614.0    0.0   \n",
      "2 2024-09-29                牛バラ    390 NaN  319.0  103.0   638.0    0.0   \n",
      "3 2024-09-29               焙煎牛肉    490 NaN    NaN    NaN     NaN    NaN   \n",
      "4 2024-09-29  ハンバーグのデミグラスソースカレー    490 NaN   81.0   37.0   220.0  128.0   \n",
      "\n",
      "   当店在庫手持週 売場施策 TV放映 プロモーション  SNS_グループ  \n",
      "0      3.8  NaN  NaN     マルコ         0  \n",
      "1      2.2  NaN  NaN     マルコ         0  \n",
      "2      2.0  NaN  NaN     マルコ         0  \n",
      "3      NaN  NaN  NaN     マルコ         0  \n",
      "4      2.7  NaN  NaN     マルコ         0  \n"
     ]
    }
   ],
   "source": [
    "import numpy as np\n",
    "\n",
    "# Load the data into the 'train' DataFrame\n",
    "file_path = r'C:\\Users\\my412\\Desktop\\ゼミ広告\\小売データ.xlsx'\n",
    "train = pd.read_excel(file_path)\n",
    "\n",
    "# --- Start of the modification code ---\n",
    "\n",
    "# 1. Add the 'SNS_グループ' column to the 'train' data\n",
    "# Assigns 1 if 'SNS' is not empty, 0 if it is empty\n",
    "train['SNS_グループ'] = np.where(train['SNS'].notna(), 1, 0)\n",
    "\n",
    "# 2. Delete the original 'SNS' column\n",
    "train = train.drop(columns=['SNS'])\n",
    "\n",
    "# --- End of the modification code ---\n",
    "\n",
    "# Check the result (display the first 5 rows)\n",
    "# The 'SNS' column should be gone, and 'SNS_グループ' should be present\n",
    "print(train.head())"
   ]
  },
  {
   "cell_type": "code",
   "execution_count": 11,
   "id": "60af4bbd",
   "metadata": {},
   "outputs": [
    {
     "name": "stdout",
     "output_type": "stream",
     "text": [
      "         day               name  price  客数    売上数    売上高   店頭在庫数  納入予定数  \\\n",
      "0 2024-09-29             バターチキン    350 NaN  645.0  207.0  1306.0  160.0   \n",
      "1 2024-09-29               グリーン    350 NaN  277.0   89.0   614.0    0.0   \n",
      "2 2024-09-29                牛バラ    390 NaN  319.0  103.0   638.0    0.0   \n",
      "3 2024-09-29               焙煎牛肉    490 NaN    NaN    NaN     NaN    NaN   \n",
      "4 2024-09-29  ハンバーグのデミグラスソースカレー    490 NaN   81.0   37.0   220.0  128.0   \n",
      "\n",
      "   当店在庫手持週 売場施策 TV放映  SNS_グループ  プロモーション_グループ  \n",
      "0      3.8  NaN  NaN         0             1  \n",
      "1      2.2  NaN  NaN         0             1  \n",
      "2      2.0  NaN  NaN         0             1  \n",
      "3      NaN  NaN  NaN         0             1  \n",
      "4      2.7  NaN  NaN         0             1  \n"
     ]
    }
   ],
   "source": [
    "import pandas as pd\n",
    "import numpy as np\n",
    "\n",
    "# データの読み込み\n",
    "file_path = r'C:\\Users\\my412\\Desktop\\ゼミ広告\\小売データ.xlsx'\n",
    "train = pd.read_excel(file_path)\n",
    "\n",
    "# --- SNS列の処理 ---\n",
    "# SNS_グループ列を追加\n",
    "train['SNS_グループ'] = np.where(train['SNS'].notna(), 1, 0)\n",
    "# SNS列を削除\n",
    "train = train.drop(columns=['SNS'])\n",
    "\n",
    "\n",
    "# --- プロモーション列の処理（ここを追加）---\n",
    "# プロモーション_グループ列を追加\n",
    "train['プロモーション_グループ'] = np.where(train['プロモーション'].notna(), 1, 0)\n",
    "# プロモーション列を削除\n",
    "train = train.drop(columns=['プロモーション'])\n",
    "\n",
    "\n",
    "# 結果の確認（先頭5行を表示）\n",
    "print(train.head())"
   ]
  },
  {
   "cell_type": "code",
   "execution_count": 13,
   "id": "48939899",
   "metadata": {},
   "outputs": [
    {
     "name": "stdout",
     "output_type": "stream",
     "text": [
      "         day               name  price  客数    売上数    売上高   店頭在庫数  納入予定数  \\\n",
      "0 2024-09-29             バターチキン    350 NaN  645.0  207.0  1306.0  160.0   \n",
      "1 2024-09-29               グリーン    350 NaN  277.0   89.0   614.0    0.0   \n",
      "2 2024-09-29                牛バラ    390 NaN  319.0  103.0   638.0    0.0   \n",
      "3 2024-09-29               焙煎牛肉    490 NaN    NaN    NaN     NaN    NaN   \n",
      "4 2024-09-29  ハンバーグのデミグラスソースカレー    490 NaN   81.0   37.0   220.0  128.0   \n",
      "\n",
      "   当店在庫手持週 売場施策  SNS_グループ  プロモーション_グループ  TV放映_グループ  \n",
      "0      3.8  NaN         0             1          0  \n",
      "1      2.2  NaN         0             1          0  \n",
      "2      2.0  NaN         0             1          0  \n",
      "3      NaN  NaN         0             1          0  \n",
      "4      2.7  NaN         0             1          0  \n"
     ]
    }
   ],
   "source": [
    "import pandas as pd\n",
    "import numpy as np\n",
    "\n",
    "# データの読み込み\n",
    "file_path = r'C:\\Users\\my412\\Desktop\\ゼミ広告\\小売データ.xlsx'\n",
    "train = pd.read_excel(file_path)\n",
    "\n",
    "# --- SNS列の処理 ---\n",
    "train['SNS_グループ'] = np.where(train['SNS'].notna(), 1, 0)\n",
    "train = train.drop(columns=['SNS'])\n",
    "\n",
    "# --- プロモーション列の処理 ---\n",
    "train['プロモーション_グループ'] = np.where(train['プロモーション'].notna(), 1, 0)\n",
    "train = train.drop(columns=['プロモーション'])\n",
    "\n",
    "# --- TV放送列の処理（ここを追加）---\n",
    "train['TV放映_グループ'] = np.where(train['TV放映'].notna(), 1, 0)\n",
    "train = train.drop(columns=['TV放映'])\n",
    "\n",
    "# 結果の確認（先頭5行を表示）\n",
    "print(train.head())"
   ]
  },
  {
   "cell_type": "code",
   "execution_count": 16,
   "id": "20a722e2",
   "metadata": {},
   "outputs": [
    {
     "name": "stdout",
     "output_type": "stream",
     "text": [
      "         day               name  price  客数    売上数    売上高   店頭在庫数  納入予定数  \\\n",
      "0 2024-09-29             バターチキン    350 NaN  645.0  207.0  1306.0  160.0   \n",
      "1 2024-09-29               グリーン    350 NaN  277.0   89.0   614.0    0.0   \n",
      "2 2024-09-29                牛バラ    390 NaN  319.0  103.0   638.0    0.0   \n",
      "3 2024-09-29               焙煎牛肉    490 NaN    NaN    NaN     NaN    NaN   \n",
      "4 2024-09-29  ハンバーグのデミグラスソースカレー    490 NaN   81.0   37.0   220.0  128.0   \n",
      "\n",
      "   当店在庫手持週 売場施策  プロモーション_グループ  広告有無グループ  \n",
      "0      3.8  NaN             1         0  \n",
      "1      2.2  NaN             1         0  \n",
      "2      2.0  NaN             1         0  \n",
      "3      NaN  NaN             1         0  \n",
      "4      2.7  NaN             1         0  \n"
     ]
    }
   ],
   "source": [
    "import pandas as pd\n",
    "import numpy as np\n",
    "\n",
    "# データの読み込み\n",
    "file_path = r'C:\\Users\\my412\\Desktop\\ゼミ広告\\小売データ.xlsx'\n",
    "train = pd.read_excel(file_path)\n",
    "\n",
    "# --- これまでの処理 ---\n",
    "train['SNS_グループ'] = np.where(train['SNS'].notna(), 1, 0)\n",
    "# SNS列はここで削除せず、後でまとめて削除します\n",
    "\n",
    "train['プロモーション_グループ'] = np.where(train['プロモーション'].notna(), 1, 0)\n",
    "train = train.drop(columns=['プロモーション'])\n",
    "\n",
    "train['TV放映_グループ'] = np.where(train['TV放映'].notna(), 1, 0)\n",
    "# TV放送列も後でまとめて削除します\n",
    "\n",
    "# --- 新しいグループ分けのコード ---\n",
    "train['広告有無グループ'] = ((train['SNS_グループ'] == 1) | (train['TV放映_グループ'] == 1)).astype(int)\n",
    "\n",
    "# --- 不要な列をまとめて削除（ここを修正） ---\n",
    "train = train.drop(columns=['SNS', 'TV放映', 'SNS_グループ', 'TV放映_グループ'])\n",
    "\n",
    "# --- 結果の確認 ---\n",
    "print(train.head())"
   ]
  },
  {
   "cell_type": "code",
   "execution_count": null,
   "id": "170ddb14",
   "metadata": {},
   "outputs": [],
   "source": []
  }
 ],
 "metadata": {
  "kernelspec": {
   "display_name": "Python 3 (ipykernel)",
   "language": "python",
   "name": "python3"
  },
  "language_info": {
   "codemirror_mode": {
    "name": "ipython",
    "version": 3
   },
   "file_extension": ".py",
   "mimetype": "text/x-python",
   "name": "python",
   "nbconvert_exporter": "python",
   "pygments_lexer": "ipython3",
   "version": "3.9.13"
  }
 },
 "nbformat": 4,
 "nbformat_minor": 5
}
